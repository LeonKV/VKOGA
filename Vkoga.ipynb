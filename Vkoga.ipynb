{
 "cells": [
  {
   "cell_type": "code",
   "execution_count": 1,
   "metadata": {},
   "outputs": [],
   "source": [
    "import numpy as np\n",
    "import matplotlib.pyplot as plt\n",
    "from sklearn.model_selection import train_test_split\n",
    "from vkoga_2L import VKOGA_2L\n",
    "from kernels import Matern, Gaussian"
   ]
  },
  {
   "cell_type": "code",
   "execution_count": 2,
   "metadata": {},
   "outputs": [],
   "source": [
    "def generate_data(n_samples=500, n_features=3, n_targets=2):\n",
    "    A_true = A_true = np.array([[2, -1, 0.5], [0.5, 1, -0.5], [1, 1, 2]])  # True transformation matrix to calc X and compare later to learned A\n",
    "    X = np.random.randn(n_samples, n_features)\n",
    "    X_transformed = X @ A_true\n",
    "    kernel = Matern(k=2)\n",
    "    K = kernel.eval(X_transformed, X_transformed)\n",
    "    # y = K @ np.random.randn(n_samples, 2)\n",
    "    y = np.dot(X, A_true) + 0.0 * np.random.randn(n_samples, n_features)  # Calculating A with optionally some noise\n",
    "    return X, y, A_true"
   ]
  },
  {
   "cell_type": "code",
   "execution_count": 3,
   "metadata": {},
   "outputs": [],
   "source": [
    "# Initialize VKOGA_2L model (some Parameters are described in Page 123)\n",
    "model = VKOGA_2L(\n",
    "    kernel=[Matern(k=2), Matern(k=2)], # quadratic Matern kernel used\n",
    "    flag_2L_optimization=True,\n",
    "    verbose=True,\n",
    "    greedy_type='f_greedy',\n",
    "    reg_par=1e-2,\n",
    "    restr_par=1e-2,\n",
    "    tol_f=1e-10,\n",
    "    tol_p=1e-10,\n",
    "    reg_para_optim=0,\n",
    "    learning_rate=5e-3,\n",
    "    n_epochs_optim=100,\n",
    "    batch_size=32\n",
    ")"
   ]
  },
  {
   "cell_type": "code",
   "execution_count": 4,
   "metadata": {},
   "outputs": [],
   "source": [
    "# Generate data\n",
    "X, y, A_true = generate_data(n_samples=500, n_features=3, n_targets=2)\n",
    "# Split into training and testing data\n",
    "X_train, X_test, y_train, y_test = train_test_split(X, y, test_size=0.2, random_state=42)"
   ]
  },
  {
   "cell_type": "code",
   "execution_count": 5,
   "metadata": {},
   "outputs": [
    {
     "name": "stdout",
     "output_type": "stream",
     "text": [
      "(400, 3)\n",
      "(400, 3)\n"
     ]
    },
    {
     "name": "stderr",
     "output_type": "stream",
     "text": [
      "C:\\Users\\leonk\\Desktop\\Uni\\Barb\\Code\\VKOGA\\src\\vkoga\\opt_kernel.py:41: UserWarning: To copy construct from a tensor, it is recommended to use sourceTensor.clone().detach() or sourceTensor.clone().detach().requires_grad_(True), rather than torch.tensor(sourceTensor).\n",
      "  X = torch.tensor(X, dtype=torch.float32)\n",
      "C:\\Users\\leonk\\Desktop\\Uni\\Barb\\Code\\VKOGA\\src\\vkoga\\opt_kernel.py:42: UserWarning: To copy construct from a tensor, it is recommended to use sourceTensor.clone().detach() or sourceTensor.clone().detach().requires_grad_(True), rather than torch.tensor(sourceTensor).\n",
      "  y = torch.tensor(y, dtype=torch.float32)\n"
     ]
    },
    {
     "name": "stdout",
     "output_type": "stream",
     "text": [
      "tensor([[-0.0152, -1.7000,  0.4968],\n",
      "        [ 2.1126, -1.1928, -0.7237],\n",
      "        [ 0.2034,  1.8554, -0.5366]], requires_grad=True)\n",
      "torch.Size([32, 32])\n",
      "tensor([[3.0000, 0.3707, 0.2021,  ..., 0.8029, 0.9432, 0.7742],\n",
      "        [0.3707, 3.0000, 1.5299,  ..., 1.5136, 0.7015, 0.0406],\n",
      "        [0.2021, 1.5299, 3.0000,  ..., 1.6877, 0.1812, 0.0146],\n",
      "        ...,\n",
      "        [0.8029, 1.5136, 1.6877,  ..., 3.0000, 0.4704, 0.0712],\n",
      "        [0.9432, 0.7015, 0.1812,  ..., 0.4704, 3.0000, 0.3814],\n",
      "        [0.7742, 0.0406, 0.0146,  ..., 0.0712, 0.3814, 3.0000]],\n",
      "       grad_fn=<MulBackward0>)\n",
      "Epoch 1/100, Loss: 4109.536263\n",
      "tensor([[ 0.1031, -2.4319,  1.4011],\n",
      "        [ 2.9672, -1.9885, -1.6972],\n",
      "        [ 0.6138,  2.3162,  0.1549]], requires_grad=True)"
     ]
    },
    {
     "name": "stderr",
     "output_type": "stream",
     "text": [
      "C:\\Users\\leonk\\Desktop\\Uni\\Barb\\Code\\VKOGA\\src\\vkoga\\opt_kernel.py:28: UserWarning: To copy construct from a tensor, it is recommended to use sourceTensor.clone().detach() or sourceTensor.clone().detach().requires_grad_(True), rather than torch.tensor(sourceTensor).\n",
      "  X_tensor = torch.tensor(X, dtype=torch.float32)\n",
      "C:\\Users\\leonk\\Desktop\\Uni\\Barb\\Code\\VKOGA\\src\\vkoga\\opt_kernel.py:29: UserWarning: To copy construct from a tensor, it is recommended to use sourceTensor.clone().detach() or sourceTensor.clone().detach().requires_grad_(True), rather than torch.tensor(sourceTensor).\n",
      "  Z_tensor = torch.tensor(Z, dtype=torch.float32)\n"
     ]
    },
    {
     "name": "stdout",
     "output_type": "stream",
     "text": [
      "\n",
      "Epoch 21/100, Loss: 1824.872829\n",
      "tensor([[ 0.2223, -2.9855,  1.8791],\n",
      "        [ 3.5179, -2.5223, -2.4070],\n",
      "        [ 0.9925,  2.6677,  0.3569]], requires_grad=True)\n",
      "Epoch 41/100, Loss: 1204.722086\n",
      "tensor([[ 0.3588, -3.4144,  2.2665],\n",
      "        [ 3.9215, -2.9215, -2.9691],\n",
      "        [ 1.3617,  2.9871,  0.5282]], requires_grad=True)\n",
      "Epoch 61/100, Loss: 901.708315\n",
      "tensor([[ 0.5222, -3.7565,  2.6072],\n",
      "        [ 4.2346, -3.2366, -3.4320],\n",
      "        [ 1.7240,  3.2795,  0.7219]], requires_grad=True)\n",
      "Epoch 81/100, Loss: 723.279871\n",
      "\n",
      "****************************** [VKOGA] ******************************\n",
      "Training model with\n",
      "       |_ kernel              : mat2 [gamma = 1.00e+00]\n",
      "       |_ regularization par. : 1.00e-02\n",
      "       |_ restriction par.    : 0.00e+00\n",
      "\n",
      "Training ongoing with\n",
      "       |_ selected points     :        1 /      100\n",
      "       |_ train residual      : 1.04e+02 / 1.00e-10\n",
      "       |_ train power fun     : 3.01e+00 / 1.00e-10\n",
      "Training ongoing with\n",
      "       |_ selected points     :       11 /      100\n",
      "       |_ train residual      : 4.16e+01 / 1.00e-10\n",
      "       |_ train power fun     : 3.01e+00 / 1.00e-10\n",
      "Training ongoing with\n",
      "       |_ selected points     :       21 /      100\n",
      "       |_ train residual      : 3.06e+01 / 1.00e-10\n",
      "       |_ train power fun     : 3.01e+00 / 1.00e-10\n",
      "Training ongoing with\n",
      "       |_ selected points     :       31 /      100\n",
      "       |_ train residual      : 2.48e+01 / 1.00e-10\n",
      "       |_ train power fun     : 3.01e+00 / 1.00e-10\n",
      "Training ongoing with\n",
      "       |_ selected points     :       41 /      100\n",
      "       |_ train residual      : 1.66e+01 / 1.00e-10\n",
      "       |_ train power fun     : 3.01e+00 / 1.00e-10\n",
      "Training ongoing with\n",
      "       |_ selected points     :       51 /      100\n",
      "       |_ train residual      : 1.17e+01 / 1.00e-10\n",
      "       |_ train power fun     : 3.01e+00 / 1.00e-10\n",
      "Training ongoing with\n",
      "       |_ selected points     :       61 /      100\n",
      "       |_ train residual      : 7.64e+00 / 1.00e-10\n",
      "       |_ train power fun     : 3.01e+00 / 1.00e-10\n",
      "Training ongoing with\n",
      "       |_ selected points     :       71 /      100\n",
      "       |_ train residual      : 5.29e+00 / 1.00e-10\n",
      "       |_ train power fun     : 3.01e+00 / 1.00e-10\n",
      "Training ongoing with\n",
      "       |_ selected points     :       81 /      100\n",
      "       |_ train residual      : 3.86e+00 / 1.00e-10\n",
      "       |_ train power fun     : 3.00e+00 / 1.00e-10\n",
      "Training ongoing with\n",
      "       |_ selected points     :       91 /      100\n",
      "       |_ train residual      : 2.75e+00 / 1.00e-10\n",
      "       |_ train power fun     : 3.00e+00 / 1.00e-10\n",
      "Training completed with\n",
      "       |_ selected points     :      100 /      100\n",
      "       |_ train residual      : 1.39e+00 / 1.00e-10\n",
      "       |_ train power fun     : 2.97e+00 / 1.00e-10\n"
     ]
    },
    {
     "data": {
      "text/plain": [
       "VKOGA_2L(flag_2L_optimization=True,\n",
       "         kernel=<kernels.Matern object at 0x000001E2699C49D0>,\n",
       "         n_epochs_optim=100, reg_par=0.01, reg_para_optim=0)"
      ]
     },
     "execution_count": 5,
     "metadata": {},
     "output_type": "execute_result"
    }
   ],
   "source": [
    "# Training\n",
    "model.fit(X_train, y_train)"
   ]
  },
  {
   "cell_type": "code",
   "execution_count": 6,
   "metadata": {},
   "outputs": [],
   "source": [
    "# Predict\n",
    "predictions = model.predict(X_test)"
   ]
  },
  {
   "cell_type": "code",
   "execution_count": 7,
   "metadata": {},
   "outputs": [
    {
     "name": "stdout",
     "output_type": "stream",
     "text": [
      "Predictions: [[ 1.32523277 -2.11876436  1.92731621]\n",
      " [ 0.39109549  0.16942351  1.36354434]\n",
      " [-1.18134633  1.44902994 -2.28022415]\n",
      " [ 0.86428329 -0.10736635  0.32847541]\n",
      " [ 0.91221364 -0.71678972  1.09054021]]\n",
      "Ground truth: [[ 1.94517334 -2.64640359  2.65047902]\n",
      " [ 2.88095065  1.1805552   6.24799208]\n",
      " [-1.10852283  1.65867207 -2.48687846]\n",
      " [ 1.24395082 -0.14031138  0.21957853]\n",
      " [ 3.86875226 -2.20417387  4.82104431]]\n"
     ]
    }
   ],
   "source": [
    "# Print the first few predictions and ground truth\n",
    "print(\"Predictions:\", predictions[:5])\n",
    "print(\"Ground truth:\", y_test[:5])"
   ]
  },
  {
   "cell_type": "code",
   "execution_count": 8,
   "metadata": {},
   "outputs": [
    {
     "name": "stdout",
     "output_type": "stream",
     "text": [
      "Mean Squared Error on Test Data: 1.061537\n"
     ]
    }
   ],
   "source": [
    "# MSE\n",
    "mse = np.mean((predictions - y_test) ** 2)\n",
    "print(f\"Mean Squared Error on Test Data: {mse:.6f}\")"
   ]
  },
  {
   "cell_type": "code",
   "execution_count": 9,
   "metadata": {},
   "outputs": [
    {
     "name": "stdout",
     "output_type": "stream",
     "text": [
      "learned A:\n",
      "[[ 0.7008121 -4.040871   2.912227 ]\n",
      " [ 4.488795  -3.4954107 -3.8262086]\n",
      " [ 2.0710564  3.5444462  0.9256562]]\n",
      "true A:\n",
      "[[ 2.  -1.   0.5]\n",
      " [ 0.5  1.  -0.5]\n",
      " [ 1.   1.   2. ]]\n"
     ]
    }
   ],
   "source": [
    "# Compare Learnend and original A\n",
    "print(\"learned A:\")\n",
    "print(model.A)\n",
    "print(\"true A:\")\n",
    "print(A_true)"
   ]
  },
  {
   "cell_type": "code",
   "execution_count": null,
   "metadata": {},
   "outputs": [],
   "source": []
  }
 ],
 "metadata": {
  "kernelspec": {
   "display_name": "Python 3",
   "language": "python",
   "name": "python3"
  },
  "language_info": {
   "codemirror_mode": {
    "name": "ipython",
    "version": 3
   },
   "file_extension": ".py",
   "mimetype": "text/x-python",
   "name": "python",
   "nbconvert_exporter": "python",
   "pygments_lexer": "ipython3",
   "version": "3.8.5"
  }
 },
 "nbformat": 4,
 "nbformat_minor": 4
}
