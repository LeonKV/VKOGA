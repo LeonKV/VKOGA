{
 "cells": [
  {
   "cell_type": "code",
   "execution_count": 1,
   "metadata": {},
   "outputs": [],
   "source": [
    "import torch\n",
    "import numpy as np\n",
    "from utilities import OptimizedKernel\n",
    "from tkernels import Matern, Gaussian"
   ]
  },
  {
   "cell_type": "code",
   "execution_count": 2,
   "metadata": {},
   "outputs": [],
   "source": [
    "def generate_data(desired_A):\n",
    "    X = torch.randn(1000, 2)\n",
    "\n",
    "    # Transform X with A\n",
    "    X_transformed = X @ desired_A\n",
    "\n",
    "    # Generate y based on X_transformed and some noise\n",
    "    y = X_transformed[:, 0] + X_transformed[:, 1] # + torch.randn(1000)\n",
    "    return X, y"
   ]
  },
  {
   "cell_type": "code",
   "execution_count": 3,
   "metadata": {},
   "outputs": [],
   "source": [
    "# Init the model\n",
    "model = OptimizedKernel(kernel=Gaussian(), dim=2, reg_para=1e-4, learning_rate=1e-3, n_epochs=1000, \n",
    "                                                flag_initialize_diagonal=True,\n",
    "                                                flag_symmetric_A=False)"
   ]
  },
  {
   "cell_type": "code",
   "execution_count": 4,
   "metadata": {},
   "outputs": [],
   "source": [
    "# Define the desired transformation matrix (self.A) and generate Data\n",
    "desired_A = torch.tensor([[0.5, 0.0], [0.0, 2.0]])\n",
    "X, y = generate_data(desired_A)"
   ]
  },
  {
   "cell_type": "code",
   "execution_count": 5,
   "metadata": {},
   "outputs": [],
   "source": [
    "# Optimize the model (learn A)\n",
    "model.optimize(X, y, flag_optim_verbose=False)"
   ]
  },
  {
   "cell_type": "code",
   "execution_count": 6,
   "metadata": {},
   "outputs": [
    {
     "name": "stdout",
     "output_type": "stream",
     "text": [
      "Desired A:\n",
      " [[0.5 0. ]\n",
      " [0.  2. ]]\n",
      "Learned A:\n",
      " [[1.1555288 0.4581991]\n",
      " [1.1114368 3.0176654]]\n"
     ]
    }
   ],
   "source": [
    "# Compare the learned A with the desired A\n",
    "print(\"Desired A:\\n\", desired_A.numpy())\n",
    "print(\"Learned A:\\n\", model.A.detach().numpy())"
   ]
  },
  {
   "cell_type": "code",
   "execution_count": 7,
   "metadata": {},
   "outputs": [],
   "source": [
    "# Use different transformation matrix\n",
    "desired_A = torch.tensor([[3.0, 0.0], [0.0, 1.0]])\n",
    "X, y = generate_data(desired_A)"
   ]
  },
  {
   "cell_type": "code",
   "execution_count": 8,
   "metadata": {},
   "outputs": [],
   "source": [
    "# Optimize the model (learn A)\n",
    "model.optimize(X, y, flag_optim_verbose=False)"
   ]
  },
  {
   "cell_type": "code",
   "execution_count": 9,
   "metadata": {},
   "outputs": [
    {
     "name": "stdout",
     "output_type": "stream",
     "text": [
      "Desired A:\n",
      " [[3. 0.]\n",
      " [0. 1.]]\n",
      "Learned A:\n",
      " [[2.8908656 1.2014633]\n",
      " [0.559028  1.1843873]]\n"
     ]
    }
   ],
   "source": [
    "# Compare the learned A with the desired A\n",
    "print(\"Desired A:\\n\", desired_A.numpy())\n",
    "print(\"Learned A:\\n\", model.A.detach().numpy())"
   ]
  },
  {
   "cell_type": "code",
   "execution_count": 10,
   "metadata": {},
   "outputs": [],
   "source": [
    "# Use symmetric A\n",
    "model = OptimizedKernel(kernel=Gaussian(), dim=2, reg_para=1e-4, learning_rate=1e-3, n_epochs=1000, \n",
    "                                                flag_initialize_diagonal=True,\n",
    "                                                flag_symmetric_A=True)"
   ]
  },
  {
   "cell_type": "code",
   "execution_count": 11,
   "metadata": {},
   "outputs": [],
   "source": [
    "# Same data\n",
    "model.optimize(X, y, flag_optim_verbose=False)"
   ]
  },
  {
   "cell_type": "code",
   "execution_count": 12,
   "metadata": {},
   "outputs": [
    {
     "name": "stdout",
     "output_type": "stream",
     "text": [
      "Desired A:\n",
      " [[3. 0.]\n",
      " [0. 1.]]\n",
      "Learned A:\n",
      " [[3.0643759  0.69086426]\n",
      " [0.69086426 1.0996428 ]]\n"
     ]
    }
   ],
   "source": [
    "# Compare the learned A with the desired A\n",
    "print(\"Desired A:\\n\", desired_A.numpy())\n",
    "print(\"Learned A:\\n\", model.A.detach().numpy())"
   ]
  },
  {
   "cell_type": "code",
   "execution_count": 13,
   "metadata": {},
   "outputs": [],
   "source": [
    "# Higher Regression Parameter\n",
    "model = OptimizedKernel(kernel=Gaussian(), dim=2, reg_para=1e-3, learning_rate=1e-3, n_epochs=1000, \n",
    "                                                flag_initialize_diagonal=True,\n",
    "                                                flag_symmetric_A=True)"
   ]
  },
  {
   "cell_type": "code",
   "execution_count": 14,
   "metadata": {},
   "outputs": [],
   "source": [
    "# Same data\n",
    "model.optimize(X, y, flag_optim_verbose=False)"
   ]
  },
  {
   "cell_type": "code",
   "execution_count": 15,
   "metadata": {},
   "outputs": [
    {
     "name": "stdout",
     "output_type": "stream",
     "text": [
      "Desired A:\n",
      " [[3. 0.]\n",
      " [0. 1.]]\n",
      "Learned A:\n",
      " [[0.19514006 0.073038  ]\n",
      " [0.073038   0.00905121]]\n"
     ]
    }
   ],
   "source": [
    "# Compare the learned A with the desired A\n",
    "print(\"Desired A:\\n\", desired_A.numpy())\n",
    "print(\"Learned A:\\n\", model.A.detach().numpy())"
   ]
  },
  {
   "cell_type": "code",
   "execution_count": 22,
   "metadata": {},
   "outputs": [],
   "source": [
    "# Init A with random Matrix\n",
    "model = OptimizedKernel(kernel=Gaussian(), dim=2, reg_para=1e-4, learning_rate=1e-4, n_epochs=1000, \n",
    "                                                flag_initialize_diagonal=False,\n",
    "                                                flag_symmetric_A=False)"
   ]
  },
  {
   "cell_type": "code",
   "execution_count": 23,
   "metadata": {},
   "outputs": [],
   "source": [
    "# Same data\n",
    "model.optimize(X, y, flag_optim_verbose=False)"
   ]
  },
  {
   "cell_type": "code",
   "execution_count": 24,
   "metadata": {},
   "outputs": [
    {
     "name": "stdout",
     "output_type": "stream",
     "text": [
      "Desired A:\n",
      " [[3. 0.]\n",
      " [0. 1.]]\n",
      "Learned A:\n",
      " [[0.36803505 0.02286587]\n",
      " [0.1214494  0.01511656]]\n"
     ]
    }
   ],
   "source": [
    "# Compare the learned A with the desired A\n",
    "print(\"Desired A:\\n\", desired_A.numpy())\n",
    "print(\"Learned A:\\n\", model.A.detach().numpy())"
   ]
  },
  {
   "cell_type": "code",
   "execution_count": null,
   "metadata": {},
   "outputs": [],
   "source": []
  }
 ],
 "metadata": {
  "kernelspec": {
   "display_name": "Python 3",
   "language": "python",
   "name": "python3"
  },
  "language_info": {
   "codemirror_mode": {
    "name": "ipython",
    "version": 3
   },
   "file_extension": ".py",
   "mimetype": "text/x-python",
   "name": "python",
   "nbconvert_exporter": "python",
   "pygments_lexer": "ipython3",
   "version": "3.8.5"
  }
 },
 "nbformat": 4,
 "nbformat_minor": 4
}
