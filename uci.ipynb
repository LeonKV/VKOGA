{
 "cells": [
  {
   "cell_type": "code",
   "execution_count": 1,
   "metadata": {},
   "outputs": [],
   "source": [
    "import numpy as np\n",
    "import matplotlib.pyplot as plt\n",
    "from sklearn.model_selection import train_test_split\n",
    "import torch\n",
    "from vkoga_2L import VKOGA_2L\n",
    "import tkernels\n",
    "import kernels\n",
    "from sklearn.model_selection import train_test_split\n",
    "from sklearn.preprocessing import StandardScaler\n",
    "from ucimlrepo import fetch_ucirepo"
   ]
  },
  {
   "cell_type": "code",
   "execution_count": 14,
   "metadata": {},
   "outputs": [],
   "source": [
    "# Fetch dataset\n",
    "parkinsons_telemonitoring = fetch_ucirepo(id=189)\n",
    "X = parkinsons_telemonitoring.data.features\n",
    "y = parkinsons_telemonitoring.data.targets\n",
    "\n",
    "# Preprocess Data\n",
    "scaler = StandardScaler()\n",
    "X_scaled = scaler.fit_transform(X)\n",
    "y_scaled = scaler.fit_transform(y)\n",
    "\n",
    "X_train, X_test, y_train, y_test = train_test_split(X_scaled, y_scaled, test_size=0.2, random_state=None)\n",
    "\n",
    "# Convert to tensors\n",
    "X_train = torch.tensor(X_train, dtype=torch.float32)\n",
    "y_train = torch.tensor(y_train, dtype=torch.float32)\n",
    "X_test = torch.tensor(X_test, dtype=torch.float32)\n",
    "y_test = torch.tensor(y_test, dtype=torch.float32)"
   ]
  },
  {
   "cell_type": "code",
   "execution_count": 15,
   "metadata": {},
   "outputs": [
    {
     "name": "stdout",
     "output_type": "stream",
     "text": [
      "If kernel optimization is desired, set flag_2L_optimization to True!\n"
     ]
    }
   ],
   "source": [
    "model_matrix = VKOGA_2L(\n",
    "    kernel=[kernels.Gaussian(), tkernels.Gaussian()], # quadratic Matern kernel used\n",
    "    flag_2L_optimization=True,\n",
    "    verbose=False,\n",
    "    greedy_type='f_greedy',\n",
    "    reg_par=0,\n",
    "    restr_par=1e-2,\n",
    "    tol_f=1e-10,\n",
    "    tol_p=1e-10,\n",
    "    reg_para_optim=1e-5,\n",
    "    learning_rate=1e-3,\n",
    "    n_epochs_optim=1000,\n",
    "    batch_size=32,\n",
    "    flag_optim_verbose=False\n",
    ")\n",
    "\n",
    "model_noMatrix = VKOGA_2L(\n",
    "    kernel=[kernels.Gaussian(), tkernels.Gaussian()], # quadratic Matern kernel used\n",
    "    flag_2L_optimization=False,\n",
    "    verbose=False,\n",
    "    greedy_type='f_greedy',\n",
    "    reg_par=0,\n",
    "    restr_par=1e-2,\n",
    "    tol_f=1e-10,\n",
    "    tol_p=1e-10,\n",
    "    reg_para_optim=1e-5,\n",
    "    learning_rate=1e-3,\n",
    "    n_epochs_optim=1000,\n",
    "    batch_size=32,\n",
    "    flag_optim_verbose=False\n",
    ")"
   ]
  },
  {
   "cell_type": "code",
   "execution_count": 16,
   "metadata": {},
   "outputs": [
    {
     "name": "stdout",
     "output_type": "stream",
     "text": [
      "torch.Size([4700, 19])\n",
      "torch.Size([4700, 2])\n",
      "torch.Size([4700, 19])\n",
      "torch.Size([4700, 2])\n"
     ]
    },
    {
     "data": {
      "text/html": [
       "<style>#sk-container-id-3 {color: black;}#sk-container-id-3 pre{padding: 0;}#sk-container-id-3 div.sk-toggleable {background-color: white;}#sk-container-id-3 label.sk-toggleable__label {cursor: pointer;display: block;width: 100%;margin-bottom: 0;padding: 0.3em;box-sizing: border-box;text-align: center;}#sk-container-id-3 label.sk-toggleable__label-arrow:before {content: \"▸\";float: left;margin-right: 0.25em;color: #696969;}#sk-container-id-3 label.sk-toggleable__label-arrow:hover:before {color: black;}#sk-container-id-3 div.sk-estimator:hover label.sk-toggleable__label-arrow:before {color: black;}#sk-container-id-3 div.sk-toggleable__content {max-height: 0;max-width: 0;overflow: hidden;text-align: left;background-color: #f0f8ff;}#sk-container-id-3 div.sk-toggleable__content pre {margin: 0.2em;color: black;border-radius: 0.25em;background-color: #f0f8ff;}#sk-container-id-3 input.sk-toggleable__control:checked~div.sk-toggleable__content {max-height: 200px;max-width: 100%;overflow: auto;}#sk-container-id-3 input.sk-toggleable__control:checked~label.sk-toggleable__label-arrow:before {content: \"▾\";}#sk-container-id-3 div.sk-estimator input.sk-toggleable__control:checked~label.sk-toggleable__label {background-color: #d4ebff;}#sk-container-id-3 div.sk-label input.sk-toggleable__control:checked~label.sk-toggleable__label {background-color: #d4ebff;}#sk-container-id-3 input.sk-hidden--visually {border: 0;clip: rect(1px 1px 1px 1px);clip: rect(1px, 1px, 1px, 1px);height: 1px;margin: -1px;overflow: hidden;padding: 0;position: absolute;width: 1px;}#sk-container-id-3 div.sk-estimator {font-family: monospace;background-color: #f0f8ff;border: 1px dotted black;border-radius: 0.25em;box-sizing: border-box;margin-bottom: 0.5em;}#sk-container-id-3 div.sk-estimator:hover {background-color: #d4ebff;}#sk-container-id-3 div.sk-parallel-item::after {content: \"\";width: 100%;border-bottom: 1px solid gray;flex-grow: 1;}#sk-container-id-3 div.sk-label:hover label.sk-toggleable__label {background-color: #d4ebff;}#sk-container-id-3 div.sk-serial::before {content: \"\";position: absolute;border-left: 1px solid gray;box-sizing: border-box;top: 0;bottom: 0;left: 50%;z-index: 0;}#sk-container-id-3 div.sk-serial {display: flex;flex-direction: column;align-items: center;background-color: white;padding-right: 0.2em;padding-left: 0.2em;position: relative;}#sk-container-id-3 div.sk-item {position: relative;z-index: 1;}#sk-container-id-3 div.sk-parallel {display: flex;align-items: stretch;justify-content: center;background-color: white;position: relative;}#sk-container-id-3 div.sk-item::before, #sk-container-id-3 div.sk-parallel-item::before {content: \"\";position: absolute;border-left: 1px solid gray;box-sizing: border-box;top: 0;bottom: 0;left: 50%;z-index: -1;}#sk-container-id-3 div.sk-parallel-item {display: flex;flex-direction: column;z-index: 1;position: relative;background-color: white;}#sk-container-id-3 div.sk-parallel-item:first-child::after {align-self: flex-end;width: 50%;}#sk-container-id-3 div.sk-parallel-item:last-child::after {align-self: flex-start;width: 50%;}#sk-container-id-3 div.sk-parallel-item:only-child::after {width: 0;}#sk-container-id-3 div.sk-dashed-wrapped {border: 1px dashed gray;margin: 0 0.4em 0.5em 0.4em;box-sizing: border-box;padding-bottom: 0.4em;background-color: white;}#sk-container-id-3 div.sk-label label {font-family: monospace;font-weight: bold;display: inline-block;line-height: 1.2em;}#sk-container-id-3 div.sk-label-container {text-align: center;}#sk-container-id-3 div.sk-container {/* jupyter's `normalize.less` sets `[hidden] { display: none; }` but bootstrap.min.css set `[hidden] { display: none !important; }` so we also need the `!important` here to be able to override the default hidden behavior on the sphinx rendered scikit-learn.org. See: https://github.com/scikit-learn/scikit-learn/issues/21755 */display: inline-block !important;position: relative;}#sk-container-id-3 div.sk-text-repr-fallback {display: none;}</style><div id=\"sk-container-id-3\" class=\"sk-top-container\"><div class=\"sk-text-repr-fallback\"><pre>VKOGA_2L(flag_optim_verbose=False,\n",
       "         kernel=&lt;kernels.Gaussian object at 0x000002702634DCD0&gt;,\n",
       "         learning_rate=0.001, n_epochs_optim=1000, reg_para_optim=1e-05,\n",
       "         restr_par=0.01, verbose=False)</pre><b>In a Jupyter environment, please rerun this cell to show the HTML representation or trust the notebook. <br />On GitHub, the HTML representation is unable to render, please try loading this page with nbviewer.org.</b></div><div class=\"sk-container\" hidden><div class=\"sk-item\"><div class=\"sk-estimator sk-toggleable\"><input class=\"sk-toggleable__control sk-hidden--visually\" id=\"sk-estimator-id-3\" type=\"checkbox\" checked><label for=\"sk-estimator-id-3\" class=\"sk-toggleable__label sk-toggleable__label-arrow\">VKOGA_2L</label><div class=\"sk-toggleable__content\"><pre>VKOGA_2L(flag_optim_verbose=False,\n",
       "         kernel=&lt;kernels.Gaussian object at 0x000002702634DCD0&gt;,\n",
       "         learning_rate=0.001, n_epochs_optim=1000, reg_para_optim=1e-05,\n",
       "         restr_par=0.01, verbose=False)</pre></div></div></div></div></div>"
      ],
      "text/plain": [
       "VKOGA_2L(flag_optim_verbose=False,\n",
       "         kernel=<kernels.Gaussian object at 0x000002702634DCD0>,\n",
       "         learning_rate=0.001, n_epochs_optim=1000, reg_para_optim=1e-05,\n",
       "         restr_par=0.01, verbose=False)"
      ]
     },
     "execution_count": 16,
     "metadata": {},
     "output_type": "execute_result"
    }
   ],
   "source": [
    "# Fit the model on training data\n",
    "model_matrix.fit(X_train, y_train)\n",
    "model_noMatrix.fit(X_train, y_train)"
   ]
  },
  {
   "cell_type": "code",
   "execution_count": 17,
   "metadata": {},
   "outputs": [],
   "source": [
    "# Predict on test data\n",
    "predictions_matrix = model_matrix.predict(X_test)\n",
    "predictions_noMatrix = model_noMatrix.predict(X_test)"
   ]
  },
  {
   "cell_type": "code",
   "execution_count": 18,
   "metadata": {},
   "outputs": [
    {
     "name": "stdout",
     "output_type": "stream",
     "text": [
      "Predictions with 2 Layer Vkoga:\n",
      " [[-7.11278002e-002 -7.92192613e-002]\n",
      " [-1.64475167e-004 -1.83185847e-004]\n",
      " [ 1.37592271e-265  1.98649654e-265]\n",
      " [ 1.10087445e+000  1.14975663e+000]\n",
      " [-1.20767775e+000 -1.16533514e+000]]\n",
      "Ground truth:\n",
      " [[ 0.10589432  0.18179175]\n",
      " [-1.0807815  -1.2147387 ]\n",
      " [-0.5973027  -0.19234233]\n",
      " [ 0.6192675   0.40236545]\n",
      " [-1.9387039  -2.0579658 ]]\n",
      "MSE on Test Data: 0.334349\n"
     ]
    }
   ],
   "source": [
    "# Print some predictions and ground truth\n",
    "print(\"Predictions with 2 Layer Vkoga:\\n\", predictions_matrix[:5])\n",
    "print(\"Ground truth:\\n\", y_test.numpy()[:5])\n",
    "\n",
    "# predictions = predictions.flatten()\n",
    "# Print Error\n",
    "mse = np.mean((predictions_matrix - y_test.numpy()) ** 2)\n",
    "print(f\"MSE on Test Data: {mse:.6f}\")"
   ]
  },
  {
   "cell_type": "code",
   "execution_count": 19,
   "metadata": {},
   "outputs": [
    {
     "name": "stdout",
     "output_type": "stream",
     "text": [
      "Predictions without 2 Layer Vkoga:\n",
      " [[ 3.06219478e-02  4.02881466e-02]\n",
      " [ 5.94127225e-03  8.10010234e-03]\n",
      " [ 4.48025113e-04  5.48182790e-04]\n",
      " [-5.69559440e-03 -6.56154042e-03]\n",
      " [-1.76650783e+00 -1.89604640e+00]]\n",
      "Ground truth:\n",
      " [[ 0.10589432  0.18179175]\n",
      " [-1.0807815  -1.2147387 ]\n",
      " [-0.5973027  -0.19234233]\n",
      " [ 0.6192675   0.40236545]\n",
      " [-1.9387039  -2.0579658 ]]\n",
      "MSE on Test Data: 0.879638\n"
     ]
    }
   ],
   "source": [
    "# Print some predictions and ground truth\n",
    "print(\"Predictions without 2 Layer Vkoga:\\n\", predictions_noMatrix[:5])\n",
    "print(\"Ground truth:\\n\", y_test.numpy()[:5])\n",
    "\n",
    "# predictions = predictions.flatten()\n",
    "# Print Error\n",
    "mse = np.mean((predictions_noMatrix - y_test.numpy()) ** 2)\n",
    "print(f\"MSE on Test Data: {mse:.6f}\")"
   ]
  },
  {
   "cell_type": "code",
   "execution_count": null,
   "metadata": {},
   "outputs": [],
   "source": []
  }
 ],
 "metadata": {
  "kernelspec": {
   "display_name": "Python 3",
   "language": "python",
   "name": "python3"
  },
  "language_info": {
   "codemirror_mode": {
    "name": "ipython",
    "version": 3
   },
   "file_extension": ".py",
   "mimetype": "text/x-python",
   "name": "python",
   "nbconvert_exporter": "python",
   "pygments_lexer": "ipython3",
   "version": "3.8.5"
  }
 },
 "nbformat": 4,
 "nbformat_minor": 4
}
